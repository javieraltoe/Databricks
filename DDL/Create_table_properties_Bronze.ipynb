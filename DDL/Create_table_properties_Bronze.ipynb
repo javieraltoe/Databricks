{
 "cells": [
  {
   "cell_type": "code",
   "execution_count": 0,
   "metadata": {
    "application/vnd.databricks.v1+cell": {
     "cellMetadata": {
      "byteLimit": 2048000,
      "implicitDf": true,
      "rowLimit": 10000
     },
     "inputWidgets": {},
     "nuid": "0a437ed2-b52b-4800-817e-c9d8677dc66f",
     "showTitle": false,
     "tableResultSettingsMap": {},
     "title": ""
    }
   },
   "outputs": [],
   "source": [
    "%sql\n",
    "CREATE TABLE IF NOT EXISTS workspace.javier_altoe.propiedades_bronze (\n",
    "    id STRING,\n",
    "    ubicacion STRING,\n",
    "    numero STRING,\n",
    "    calle STRING,\n",
    "    precio STRING,\n",
    "    expensas STRING,\n",
    "    tipo_de_operacion STRING,\n",
    "    moneda STRING,\n",
    "    ambientes STRING,\n",
    "    metros_cuadrados_totales STRING,\n",
    "    metros_cuadrados_cubiertos STRING,\n",
    "    orientacion_cardinal STRING,\n",
    "    orientacion_inmueble STRING,\n",
    "    piso STRING,\n",
    "    cochera STRING,\n",
    "    antiguedad STRING,\n",
    "    estado STRING,\n",
    "    tipo_vendedor STRING,\n",
    "    original_text STRING,\n",
    "    url STRING,\n",
    "    zona STRING,\n",
    "    fecha STRING\n",
    ")\n",
    "USING DELTA;\n"
   ]
  },
  {
   "cell_type": "code",
   "execution_count": 0,
   "metadata": {
    "application/vnd.databricks.v1+cell": {
     "cellMetadata": {
      "byteLimit": 2048000,
      "implicitDf": true,
      "rowLimit": 10000
     },
     "inputWidgets": {},
     "nuid": "dcf97a84-1ccc-4819-81fb-7938f91c9d49",
     "showTitle": false,
     "tableResultSettingsMap": {},
     "title": ""
    }
   },
   "outputs": [],
   "source": [
    "%sql\n",
    "drop table if exists workspace.javier_altoe.propiedades_gold;\n"
   ]
  }
 ],
 "metadata": {
  "application/vnd.databricks.v1+notebook": {
   "computePreferences": null,
   "dashboards": [],
   "environmentMetadata": {
    "base_environment": "",
    "environment_version": "3"
   },
   "inputWidgetPreferences": null,
   "language": "python",
   "notebookMetadata": {
    "mostRecentlyExecutedCommandWithImplicitDF": {
     "commandId": 6035133298698335,
     "dataframes": [
      "_sqldf"
     ]
    },
    "pythonIndentUnit": 4
   },
   "notebookName": "Create_table_properties_Bronze",
   "widgets": {}
  },
  "language_info": {
   "name": "python"
  }
 },
 "nbformat": 4,
 "nbformat_minor": 0
}
