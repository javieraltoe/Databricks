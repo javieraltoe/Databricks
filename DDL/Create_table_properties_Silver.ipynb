{
 "cells": [
  {
   "cell_type": "code",
   "execution_count": 0,
   "metadata": {
    "application/vnd.databricks.v1+cell": {
     "cellMetadata": {
      "byteLimit": 2048000,
      "implicitDf": true,
      "rowLimit": 10000
     },
     "inputWidgets": {},
     "nuid": "0a437ed2-b52b-4800-817e-c9d8677dc66f",
     "showTitle": false,
     "tableResultSettingsMap": {},
     "title": ""
    }
   },
   "outputs": [],
   "source": [
    "%sql\n",
    "CREATE TABLE IF NOT EXISTS workspace.javier_altoe.propiedades_silver (\n",
    "    id BIGINT,\n",
    "    ubicacion STRING,\n",
    "    numero INT,\n",
    "    calle STRING,\n",
    "    precio DOUBLE,\n",
    "    expensas DOUBLE,\n",
    "    tipo_de_operacion STRING,\n",
    "    moneda STRING,\n",
    "    ambientes INT,\n",
    "    metros_cuadrados_totales DOUBLE,\n",
    "    metros_cuadrados_cubiertos DOUBLE,\n",
    "    orientacion_cardinal STRING,\n",
    "    orientacion_inmueble STRING,\n",
    "    piso INT,\n",
    "    cochera STRING,\n",
    "    antiguedad DOUBLE,\n",
    "    estado STRING,\n",
    "    tipo_vendedor STRING,\n",
    "    original_text STRING,\n",
    "    url STRING,\n",
    "    zona STRING,\n",
    "    fecha TIMESTAMP   \n",
    ")\n",
    "USING DELTA"
   ]
  },
  {
   "cell_type": "code",
   "execution_count": 0,
   "metadata": {
    "application/vnd.databricks.v1+cell": {
     "cellMetadata": {
      "byteLimit": 2048000,
      "implicitDf": true,
      "rowLimit": 10000
     },
     "inputWidgets": {},
     "nuid": "7f56e929-9583-4d0a-9012-437800498a7a",
     "showTitle": false,
     "tableResultSettingsMap": {},
     "title": ""
    }
   },
   "outputs": [],
   "source": [
    "%sql\n",
    "DROP TABLE IF EXISTS workspace.javier_altoe.propiedades_silver"
   ]
  }
 ],
 "metadata": {
  "application/vnd.databricks.v1+notebook": {
   "computePreferences": null,
   "dashboards": [],
   "environmentMetadata": {
    "base_environment": "",
    "environment_version": "3"
   },
   "inputWidgetPreferences": null,
   "language": "python",
   "notebookMetadata": {
    "mostRecentlyExecutedCommandWithImplicitDF": {
     "commandId": 1322373824210137,
     "dataframes": [
      "_sqldf"
     ]
    },
    "pythonIndentUnit": 4
   },
   "notebookName": "Create_table_properties_Silver",
   "widgets": {}
  },
  "language_info": {
   "name": "python"
  }
 },
 "nbformat": 4,
 "nbformat_minor": 0
}
