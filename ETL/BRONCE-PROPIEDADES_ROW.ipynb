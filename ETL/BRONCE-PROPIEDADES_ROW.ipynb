{
 "cells": [
  {
   "cell_type": "code",
   "execution_count": 0,
   "metadata": {
    "application/vnd.databricks.v1+cell": {
     "cellMetadata": {
      "byteLimit": 2048000,
      "rowLimit": 10000
     },
     "inputWidgets": {},
     "nuid": "37836786-6b65-498a-9872-df6430a08c83",
     "showTitle": false,
     "tableResultSettingsMap": {},
     "title": ""
    }
   },
   "outputs": [],
   "source": [
    "#Paso 1: Conectar los datos (CSV → Spark DataFrame)\n",
    "from pyspark.sql import SparkSession\n",
    "from pyspark.sql.types import StructType, StructField, StringType, DoubleType, LongType\n",
    "\n",
    "# Crear SparkSession\n",
    "spark = SparkSession.builder.getOrCreate()\n",
    "\n",
    "# Definir schema con todo como STRING\n",
    "schema_bronze = StructType([\n",
    "    StructField(\"id\", StringType(), True),\n",
    "    StructField(\"ubicacion\", StringType(), True),\n",
    "    StructField(\"numero\", StringType(), True),\n",
    "    StructField(\"calle\", StringType(), True),\n",
    "    StructField(\"precio\", StringType(), True),\n",
    "    StructField(\"expensas\", StringType(), True),\n",
    "    StructField(\"tipo_de_operacion\", StringType(), True),\n",
    "    StructField(\"moneda\", StringType(), True),\n",
    "    StructField(\"ambientes\", StringType(), True),\n",
    "    StructField(\"metros_cuadrados_totales\", StringType(), True),\n",
    "    StructField(\"metros_cuadrados_cubiertos\", StringType(), True),\n",
    "    StructField(\"orientacion_cardinal\", StringType(), True),\n",
    "    StructField(\"orientacion_inmueble\", StringType(), True),\n",
    "    StructField(\"piso\", StringType(), True),\n",
    "    StructField(\"cochera\", StringType(), True),\n",
    "    StructField(\"antiguedad\", StringType(), True),\n",
    "    StructField(\"estado\", StringType(), True),\n",
    "    StructField(\"tipo_vendedor\", StringType(), True),\n",
    "    StructField(\"original_text\", StringType(), True),\n",
    "    StructField(\"url\", StringType(), True),\n",
    "    StructField(\"zona\", StringType(), True),\n",
    "    StructField(\"fecha\", StringType(), True)\n",
    "])\n",
    "\n",
    "# Ruta del archivo cargado\n",
    "file_path = \"/Volumes/workspace/javier_altoe/datos_crudos/propiedades_raw.csv\"\n",
    "\n",
    "\n",
    "# Leer el CSV con schema\n",
    "df_bronze = (\n",
    "    spark.read\n",
    "    .option(\"header\", True)\n",
    "    .schema(schema_bronze)\n",
    "    .csv(file_path)\n",
    ")\n",
    "\n",
    "# Definir tabla Bronze\n",
    "BRONZE_TABLE = \"workspace.javier_altoe.propiedades_bronze\"\n",
    "\n",
    "# Insertar en la tabla existente (append)\n",
    "df_bronze.write.format(\"delta\").mode(\"append\").saveAsTable(BRONZE_TABLE)\n",
    "\n",
    "print(\"✅ Datos insertados en Bronze:\", BRONZE_TABLE)"
   ]
  }
 ],
 "metadata": {
  "application/vnd.databricks.v1+notebook": {
   "computePreferences": null,
   "dashboards": [],
   "environmentMetadata": {
    "base_environment": "",
    "environment_version": "3"
   },
   "inputWidgetPreferences": null,
   "language": "python",
   "notebookMetadata": {
    "pythonIndentUnit": 4
   },
   "notebookName": "BRONCE-PROPIEDADES_ROW",
   "widgets": {}
  },
  "language_info": {
   "name": "python"
  }
 },
 "nbformat": 4,
 "nbformat_minor": 0
}
