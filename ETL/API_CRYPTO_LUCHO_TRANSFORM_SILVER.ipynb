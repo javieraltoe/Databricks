{
 "cells": [
  {
   "cell_type": "code",
   "execution_count": 0,
   "metadata": {
    "application/vnd.databricks.v1+cell": {
     "cellMetadata": {
      "byteLimit": 2048000,
      "rowLimit": 10000
     },
     "inputWidgets": {},
     "nuid": "43ce9aa2-d959-45a1-87ad-782bd69162b9",
     "showTitle": false,
     "tableResultSettingsMap": {},
     "title": ""
    }
   },
   "outputs": [],
   "source": [
    "# Notebook 2: SILVER - Upsert incremental\n",
    "\n",
    "from pyspark.sql import SparkSession\n",
    "from pyspark.sql.functions import col\n",
    "from delta.tables import DeltaTable\n",
    "\n",
    "spark = SparkSession.builder.getOrCreate()\n",
    "\n",
    "BRONZE_TABLE = \"workspace.javier_altoe.crypto_bronze\"\n",
    "SILVER_TABLE = \"workspace.javier_altoe.crypto_silver\"\n",
    "\n",
    "df_bronze = spark.table(BRONZE_TABLE)\n",
    "\n",
    "# Selección de columnas\n",
    "df_silver_new = df_bronze.select(\n",
    "    col(\"id\"),\n",
    "    col(\"name\"),\n",
    "    col(\"symbol\"),\n",
    "    col(\"quote.USD.price\").alias(\"price_usd\"),\n",
    "    col(\"quote.USD.market_cap\").alias(\"market_cap\"),\n",
    "    col(\"quote.USD.volume_24h\").alias(\"volume_24h\"),\n",
    "    col(\"last_updated\")\n",
    ")\n",
    "\n",
    "# Si la tabla Silver no existe, la creamos\n",
    "if not spark._jsparkSession.catalog().tableExists(SILVER_TABLE):\n",
    "    df_silver_new.write.format(\"delta\").saveAsTable(SILVER_TABLE)\n",
    "else:\n",
    "    delta_silver = DeltaTable.forName(spark, SILVER_TABLE)\n",
    "    delta_silver.alias(\"t\").merge(\n",
    "        df_silver_new.alias(\"s\"),\n",
    "        \"t.id = s.id\"\n",
    "    ).whenMatchedUpdateAll(\n",
    "    ).whenNotMatchedInsertAll(\n",
    "    ).execute()\n",
    "\n",
    "print(\"✅ Silver actualizado incrementalmente\")\n"
   ]
  }
 ],
 "metadata": {
  "application/vnd.databricks.v1+notebook": {
   "computePreferences": null,
   "dashboards": [],
   "environmentMetadata": {
    "base_environment": "",
    "environment_version": "3"
   },
   "inputWidgetPreferences": null,
   "language": "python",
   "notebookMetadata": {
    "pythonIndentUnit": 4
   },
   "notebookName": "API_CRYPTO_LUCHO_TRANSFORM_SILVER",
   "widgets": {}
  },
  "language_info": {
   "name": "python"
  }
 },
 "nbformat": 4,
 "nbformat_minor": 0
}
