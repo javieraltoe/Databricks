{
 "cells": [
  {
   "cell_type": "code",
   "execution_count": 0,
   "metadata": {
    "application/vnd.databricks.v1+cell": {
     "cellMetadata": {
      "byteLimit": 2048000,
      "rowLimit": 10000
     },
     "inputWidgets": {},
     "nuid": "1a43327c-71ed-4db4-b886-eb9b5a39dca1",
     "showTitle": false,
     "tableResultSettingsMap": {},
     "title": ""
    }
   },
   "outputs": [],
   "source": [
    "# Notebook 3: GOLD - Preparar datos listos para BI incremental\n",
    "\n",
    "from pyspark.sql import SparkSession\n",
    "from pyspark.sql.functions import avg, max, min\n",
    "from delta.tables import DeltaTable\n",
    "\n",
    "spark = SparkSession.builder.getOrCreate()\n",
    "\n",
    "SILVER_TABLE = \"workspace.javier_altoe.crypto_silver\"\n",
    "GOLD_TABLE = \"workspace.javier_altoe.crypto_gold\"\n",
    "\n",
    "df_silver = spark.table(SILVER_TABLE)\n",
    "\n",
    "# Ejemplo de agregados\n",
    "df_gold_new = df_silver.groupBy(\"symbol\").agg(\n",
    "    avg(\"price_usd\").alias(\"avg_price_usd\"),\n",
    "    max(\"market_cap\").alias(\"max_market_cap\"),\n",
    "    min(\"market_cap\").alias(\"min_market_cap\")\n",
    ")\n",
    "\n",
    "# Si la tabla Gold no existe, crearla\n",
    "if not spark._jsparkSession.catalog().tableExists(GOLD_TABLE):\n",
    "    df_gold_new.write.format(\"delta\").saveAsTable(GOLD_TABLE)\n",
    "else:\n",
    "    delta_gold = DeltaTable.forName(spark, GOLD_TABLE)\n",
    "    delta_gold.alias(\"t\").merge(\n",
    "        df_gold_new.alias(\"s\"),\n",
    "        \"t.symbol = s.symbol\"\n",
    "    ).whenMatchedUpdateAll(\n",
    "    ).whenNotMatchedInsertAll(\n",
    "    ).execute()\n",
    "\n",
    "print(\"✅ Gold actualizado incrementalmente\")\n"
   ]
  }
 ],
 "metadata": {
  "application/vnd.databricks.v1+notebook": {
   "computePreferences": null,
   "dashboards": [],
   "environmentMetadata": {
    "base_environment": "",
    "environment_version": "3"
   },
   "inputWidgetPreferences": null,
   "language": "python",
   "notebookMetadata": {
    "pythonIndentUnit": 4
   },
   "notebookName": "API_CRYPTO_LUCHO_STORAGE_GOLD",
   "widgets": {}
  },
  "language_info": {
   "name": "python"
  }
 },
 "nbformat": 4,
 "nbformat_minor": 0
}
