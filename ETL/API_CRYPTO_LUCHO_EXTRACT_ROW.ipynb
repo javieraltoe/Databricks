{
 "cells": [
  {
   "cell_type": "code",
   "execution_count": 0,
   "metadata": {
    "application/vnd.databricks.v1+cell": {
     "cellMetadata": {
      "byteLimit": 2048000,
      "rowLimit": 10000
     },
     "inputWidgets": {},
     "nuid": "d52f356c-77ed-4f81-a6c4-d58827408b6f",
     "showTitle": false,
     "tableResultSettingsMap": {},
     "title": ""
    }
   },
   "outputs": [],
   "source": [
    "# Notebook 1: BRONZE - Carga incremental\n",
    "\n",
    "from pyspark.sql import SparkSession\n",
    "import requests\n",
    "import json\n",
    "from pyspark.sql.types import StructType, StructField, StringType, DoubleType, LongType, MapType\n",
    "\n",
    "spark = SparkSession.builder.getOrCreate()\n",
    "\n",
    "schema = StructType([\n",
    "    StructField(\"id\", LongType(), True),\n",
    "    StructField(\"name\", StringType(), True),\n",
    "    StructField(\"symbol\", StringType(), True),\n",
    "    StructField(\"slug\", StringType(), True),\n",
    "    StructField(\"cmc_rank\", LongType(), True),\n",
    "    StructField(\"last_updated\", StringType(), True),\n",
    "    StructField(\"quote\", MapType(StringType(), StructType([\n",
    "        StructField(\"price\", DoubleType(), True),\n",
    "        StructField(\"market_cap\", DoubleType(), True),\n",
    "        StructField(\"volume_24h\", DoubleType(), True),\n",
    "        StructField(\"percent_change_1h\", DoubleType(), True),\n",
    "        StructField(\"percent_change_24h\", DoubleType(), True),\n",
    "        StructField(\"percent_change_7d\", DoubleType(), True),\n",
    "        StructField(\"last_updated\", StringType(), True)\n",
    "    ])))\n",
    "])\n",
    "\n",
    "url = \"https://sandbox-api.coinmarketcap.com/v1/cryptocurrency/listings/latest\"\n",
    "parameters = {\"start\": \"1\", \"limit\": \"100\", \"convert\": \"USD\"}\n",
    "headers = {\n",
    "    \"Accepts\": \"application/json\",\n",
    "    \"X-CMC_PRO_API_KEY\": \"e734d13f-5b0b-481b-8490-9f7d35c66976\",\n",
    "}\n",
    "\n",
    "response = requests.get(url, headers=headers, params=parameters)\n",
    "data = response.json()\n",
    "cryptos = data[\"data\"]\n",
    "\n",
    "df_bronze = spark.createDataFrame(cryptos, schema=schema)\n",
    "\n",
    "BRONZE_TABLE = \"workspace.javier_altoe.crypto_bronze\"\n",
    "\n",
    "# En lugar de overwrite, usar append\n",
    "df_bronze.write.format(\"delta\").mode(\"append\").saveAsTable(BRONZE_TABLE)\n",
    "\n",
    "print(\"✅ Datos añadidos a Bronze:\", BRONZE_TABLE)\n"
   ]
  }
 ],
 "metadata": {
  "application/vnd.databricks.v1+notebook": {
   "computePreferences": null,
   "dashboards": [],
   "environmentMetadata": {
    "base_environment": "",
    "environment_version": "3"
   },
   "inputWidgetPreferences": null,
   "language": "python",
   "notebookMetadata": {
    "mostRecentlyExecutedCommandWithImplicitDF": {
     "commandId": 5401661040702829,
     "dataframes": [
      "_sqldf"
     ]
    },
    "pythonIndentUnit": 4
   },
   "notebookName": "API_CRYPTO_LUCHO_EXTRACT_ROW",
   "widgets": {}
  },
  "language_info": {
   "name": "python"
  }
 },
 "nbformat": 4,
 "nbformat_minor": 0
}
