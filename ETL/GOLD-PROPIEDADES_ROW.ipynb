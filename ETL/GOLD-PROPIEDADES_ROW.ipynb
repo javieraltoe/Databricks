{
 "cells": [
  {
   "cell_type": "code",
   "execution_count": 0,
   "metadata": {
    "application/vnd.databricks.v1+cell": {
     "cellMetadata": {
      "byteLimit": 2048000,
      "rowLimit": 10000
     },
     "inputWidgets": {},
     "nuid": "37836786-6b65-498a-9872-df6430a08c83",
     "showTitle": false,
     "tableResultSettingsMap": {},
     "title": ""
    }
   },
   "outputs": [],
   "source": [
    "from pyspark.sql import functions as F\n",
    "\n",
    "# Leer Silver\n",
    "silver_df = spark.table(\"workspace.javier_altoe.propiedades_silver\")\n",
    "\n",
    "# ====== Transformaciones para Gold ======\n",
    "\n",
    "# 1. Calcular precio por metro cuadrado\n",
    "gold_df = silver_df.withColumn(\n",
    "    \"precio_m2\", \n",
    "    F.when(F.col(\"metros_cuadrados_totales\") > 0, F.col(\"precio\") / F.col(\"metros_cuadrados_totales\"))\n",
    "     .otherwise(None)\n",
    ")\n",
    "\n",
    "# 2. Clasificación por antigüedad\n",
    "gold_df = gold_df.withColumn(\n",
    "    \"categoria_antiguedad\",\n",
    "    F.when(F.col(\"antiguedad\") < 5, \"a_estrenar\")\n",
    "     .when((F.col(\"antiguedad\") >= 5) & (F.col(\"antiguedad\") < 20), \"reciente\")\n",
    "     .when((F.col(\"antiguedad\") >= 20) & (F.col(\"antiguedad\") < 50), \"media\")\n",
    "     .when(F.col(\"antiguedad\") >= 50, \"antiguo\")\n",
    "     .otherwise(\"desconocido\")\n",
    ")\n",
    "\n",
    "# 3. Clasificación de rangos de precio\n",
    "gold_df = gold_df.withColumn(\n",
    "    \"rango_precio\",\n",
    "    F.when(F.col(\"precio\") < 50000, \"bajo\")\n",
    "     .when((F.col(\"precio\") >= 50000) & (F.col(\"precio\") < 150000), \"medio\")\n",
    "     .when((F.col(\"precio\") >= 150000) & (F.col(\"precio\") < 300000), \"alto\")\n",
    "     .when(F.col(\"precio\") >= 300000, \"premium\")\n",
    "     .otherwise(\"desconocido\")\n",
    ")\n",
    "\n",
    "# 4. Seleccionar solo las columnas definidas en el DDL de Gold\n",
    "gold_df_final = gold_df.select(\n",
    "    \"id\",\n",
    "    \"zona\",\n",
    "    \"tipo_de_operacion\",\n",
    "    \"precio\",\n",
    "    \"precio_m2\",\n",
    "    \"categoria_antiguedad\",\n",
    "    \"rango_precio\"\n",
    ")\n",
    "\n",
    "# 5. Guardar en la tabla Gold (detallada)\n",
    "GOLD_TABLE = \"workspace.javier_altoe.propiedades_gold\"\n",
    "gold_df_final.write.format(\"delta\").mode(\"overwrite\").saveAsTable(GOLD_TABLE)\n",
    "\n",
    "print(\"✅ Datos enriquecidos y guardados en Gold:\", GOLD_TABLE)\n"
   ]
  },
  {
   "cell_type": "code",
   "execution_count": 0,
   "metadata": {
    "application/vnd.databricks.v1+cell": {
     "cellMetadata": {
      "byteLimit": 2048000,
      "implicitDf": true,
      "rowLimit": 10000
     },
     "inputWidgets": {},
     "nuid": "0f3f0608-1901-48e0-952b-a7c2274e295a",
     "showTitle": false,
     "tableResultSettingsMap": {},
     "title": ""
    }
   },
   "outputs": [],
   "source": [
    "%sql\n",
    "select *\n",
    "from workspace.javier_altoe.propiedades_gold;"
   ]
  }
 ],
 "metadata": {
  "application/vnd.databricks.v1+notebook": {
   "computePreferences": null,
   "dashboards": [],
   "environmentMetadata": {
    "base_environment": "",
    "environment_version": "3"
   },
   "inputWidgetPreferences": null,
   "language": "python",
   "notebookMetadata": {
    "mostRecentlyExecutedCommandWithImplicitDF": {
     "commandId": 5380744519000512,
     "dataframes": [
      "_sqldf"
     ]
    },
    "pythonIndentUnit": 4
   },
   "notebookName": "GOLD-PROPIEDADES_ROW",
   "widgets": {}
  },
  "language_info": {
   "name": "python"
  }
 },
 "nbformat": 4,
 "nbformat_minor": 0
}
