{
 "cells": [
  {
   "cell_type": "code",
   "execution_count": 0,
   "metadata": {
    "application/vnd.databricks.v1+cell": {
     "cellMetadata": {},
     "inputWidgets": {},
     "nuid": "8e230bab-cdff-4b1e-aa19-30530cac32eb",
     "showTitle": false,
     "tableResultSettingsMap": {},
     "title": ""
    }
   },
   "outputs": [],
   "source": [
    "# Databricks notebook source\n",
    "dbutils.widgets.text(\"table_name\", \"\")\n",
    "dbutils.widgets.text(\"min_count\", \"0\")\n",
    "dbutils.widgets.text(\"col_not_null\", \"\")\n",
    "\n",
    "table_name = dbutils.widgets.get(\"table_name\")\n",
    "min_count = int(dbutils.widgets.get(\"min_count\"))\n",
    "col_not_null = dbutils.widgets.get(\"col_not_null\")\n",
    "\n",
    "print(f\"🔍 Validando tabla: {table_name}\")\n",
    "\n",
    "# Leer la tabla\n",
    "df = spark.table(table_name)\n",
    "\n",
    "# Reglas básicas\n",
    "count_total = df.count()\n",
    "count_valid = (\n",
    "    df.filter(df[col_not_null].isNotNull())\n",
    "    .count()\n",
    ")\n",
    "\n",
    "print(f\"📊 Total registros: {count_total}\")\n",
    "print(f\"📊 Registros válidos en {col_not_null}: {count_valid}\")\n",
    "\n",
    "# Validación\n",
    "if count_valid < min_count:\n",
    "    msg = f\"❌ Validación fallida: {count_valid} registros válidos, se requieren al menos {min_count}\"\n",
    "    print(msg)\n",
    "    raise Exception(msg)\n",
    "else:\n",
    "    print(f\"✅ Validación exitosa: {count_valid} >= {min_count}\")\n"
   ]
  }
 ],
 "metadata": {
  "application/vnd.databricks.v1+notebook": {
   "computePreferences": null,
   "dashboards": [],
   "environmentMetadata": {
    "base_environment": "",
    "environment_version": "4"
   },
   "inputWidgetPreferences": null,
   "language": "python",
   "notebookMetadata": {
    "pythonIndentUnit": 4
   },
   "notebookName": "Validacion Generica",
   "widgets": {}
  },
  "language_info": {
   "name": "python"
  }
 },
 "nbformat": 4,
 "nbformat_minor": 0
}
